{
 "cells": [
  {
   "cell_type": "code",
   "execution_count": 2,
   "id": "8d2f922e",
   "metadata": {},
   "outputs": [],
   "source": [
    "from sympy import *"
   ]
  },
  {
   "cell_type": "code",
   "execution_count": 3,
   "id": "bfb135f0",
   "metadata": {},
   "outputs": [],
   "source": [
    "x = symbols('x')"
   ]
  },
  {
   "cell_type": "code",
   "execution_count": 4,
   "id": "0ad74af2",
   "metadata": {},
   "outputs": [
    {
     "data": {
      "text/latex": [
       "$\\displaystyle x^{2} + x - 3$"
      ],
      "text/plain": [
       "x**2 + x - 3"
      ]
     },
     "execution_count": 4,
     "metadata": {},
     "output_type": "execute_result"
    }
   ],
   "source": [
    "f_x = x**2 + x - 3\n",
    "f_x"
   ]
  },
  {
   "cell_type": "code",
   "execution_count": 5,
   "id": "d13f7b58",
   "metadata": {},
   "outputs": [],
   "source": [
    "def f(a):\n",
    "    return f_x.subs(x,a)\n",
    "    "
   ]
  },
  {
   "cell_type": "code",
   "execution_count": 6,
   "id": "e931297a",
   "metadata": {},
   "outputs": [],
   "source": [
    "def h(a,b,c):\n",
    "   return f(a),f(b),f(c)"
   ]
  },
  {
   "cell_type": "code",
   "execution_count": 7,
   "id": "946fafb1",
   "metadata": {},
   "outputs": [
    {
     "data": {
      "text/plain": [
       "(-3, -2.25000000000000, -2.48437500000000)"
      ]
     },
     "execution_count": 7,
     "metadata": {},
     "output_type": "execute_result"
    }
   ],
   "source": [
    "h(0,0.5,0.375)"
   ]
  },
  {
   "cell_type": "code",
   "execution_count": 8,
   "id": "c01cdf0a",
   "metadata": {},
   "outputs": [],
   "source": [
    "def t(f_x,a,b):\n",
    "    test = {}\n",
    "    n = 0\n",
    "    s,e = a,b\n",
    "    c = 0\n",
    "    while n<= 10:\n",
    "\n",
    "        c = (s+e)/2\n",
    "        f_c = f(c)\n",
    "        test[f'It_{n+1}'] = s,e,c,f_c\n",
    "        \n",
    "        if f(s) * f(c) < 0:\n",
    "            s,e = s,c\n",
    "        else:\n",
    "            s,e = c,e\n",
    "        \n",
    "        n += 1\n",
    "\n",
    "    return test"
   ]
  },
  {
   "cell_type": "code",
   "execution_count": 9,
   "id": "d78334e4",
   "metadata": {},
   "outputs": [
    {
     "data": {
      "text/plain": [
       "{'It_1': (1, 2, 1.5, 0.750000000000000),\n",
       " 'It_2': (1, 1.5, 1.25, -0.187500000000000),\n",
       " 'It_3': (1.25, 1.5, 1.375, 0.265625000000000),\n",
       " 'It_4': (1.25, 1.375, 1.3125, 0.0351562500000000),\n",
       " 'It_5': (1.25, 1.3125, 1.28125, -0.0771484375000000),\n",
       " 'It_6': (1.28125, 1.3125, 1.296875, -0.0212402343750000),\n",
       " 'It_7': (1.296875, 1.3125, 1.3046875, 0.00689697265625000),\n",
       " 'It_8': (1.296875, 1.3046875, 1.30078125, -0.00718688964843750),\n",
       " 'It_9': (1.30078125, 1.3046875, 1.302734375, -0.000148773193359375),\n",
       " 'It_10': (1.302734375, 1.3046875, 1.3037109375, 0.00337314605712891),\n",
       " 'It_11': (1.302734375, 1.3037109375, 1.30322265625, 0.00161194801330566)}"
      ]
     },
     "execution_count": 9,
     "metadata": {},
     "output_type": "execute_result"
    }
   ],
   "source": [
    "t(f_x,1,2)"
   ]
  },
  {
   "cell_type": "code",
   "execution_count": null,
   "id": "a96eca56",
   "metadata": {},
   "outputs": [],
   "source": []
  },
  {
   "cell_type": "code",
   "execution_count": null,
   "id": "549081f2",
   "metadata": {},
   "outputs": [],
   "source": []
  },
  {
   "cell_type": "code",
   "execution_count": null,
   "id": "b338f761",
   "metadata": {},
   "outputs": [],
   "source": []
  }
 ],
 "metadata": {
  "kernelspec": {
   "display_name": "Python 3 (ipykernel)",
   "language": "python",
   "name": "python3"
  },
  "language_info": {
   "codemirror_mode": {
    "name": "ipython",
    "version": 3
   },
   "file_extension": ".py",
   "mimetype": "text/x-python",
   "name": "python",
   "nbconvert_exporter": "python",
   "pygments_lexer": "ipython3",
   "version": "3.10.7"
  }
 },
 "nbformat": 4,
 "nbformat_minor": 5
}
