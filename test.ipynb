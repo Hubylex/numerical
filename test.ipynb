{
 "cells": [
  {
   "cell_type": "code",
   "execution_count": 1,
   "id": "24ae8d65",
   "metadata": {},
   "outputs": [],
   "source": [
    "import math"
   ]
  },
  {
   "cell_type": "code",
   "execution_count": 2,
   "id": "af663930",
   "metadata": {},
   "outputs": [],
   "source": [
    "def f(x):\n",
    "    return x**2+ x - 2"
   ]
  },
  {
   "cell_type": "code",
   "execution_count": null,
   "id": "5b8ab3da",
   "metadata": {},
   "outputs": [],
   "source": [
    "def bisection(f, x1, x2, n=0, eps = 1)"
   ]
  }
 ],
 "metadata": {
  "kernelspec": {
   "display_name": "Python 3 (ipykernel)",
   "language": "python",
   "name": "python3"
  },
  "language_info": {
   "codemirror_mode": {
    "name": "ipython",
    "version": 3
   },
   "file_extension": ".py",
   "mimetype": "text/x-python",
   "name": "python",
   "nbconvert_exporter": "python",
   "pygments_lexer": "ipython3",
   "version": "3.10.7"
  }
 },
 "nbformat": 4,
 "nbformat_minor": 5
}
