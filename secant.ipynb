{
 "cells": [
  {
   "cell_type": "code",
   "execution_count": 2,
   "id": "26bdd6f8",
   "metadata": {},
   "outputs": [],
   "source": [
    "from sympy import *"
   ]
  },
  {
   "cell_type": "code",
   "execution_count": 3,
   "id": "3554d951",
   "metadata": {},
   "outputs": [],
   "source": [
    "x = symbols('x')"
   ]
  },
  {
   "cell_type": "code",
   "execution_count": 49,
   "id": "b7751ac9",
   "metadata": {},
   "outputs": [
    {
     "data": {
      "text/latex": [
       "$\\displaystyle x^{3} - 5 x + 1$"
      ],
      "text/plain": [
       "x**3 - 5*x + 1"
      ]
     },
     "execution_count": 49,
     "metadata": {},
     "output_type": "execute_result"
    }
   ],
   "source": [
    "fx = x**3 - 5*x + 1\n",
    "fx"
   ]
  },
  {
   "cell_type": "code",
   "execution_count": 50,
   "id": "481eae3f",
   "metadata": {},
   "outputs": [],
   "source": [
    "def f(a):\n",
    "    return fx.subs(x,a)"
   ]
  },
  {
   "cell_type": "code",
   "execution_count": 51,
   "id": "693a7d9c",
   "metadata": {},
   "outputs": [],
   "source": [
    "def r(a):\n",
    "    return round(a,4)"
   ]
  },
  {
   "cell_type": "code",
   "execution_count": 52,
   "id": "16bf50c7",
   "metadata": {},
   "outputs": [
    {
     "data": {
      "text/latex": [
       "$\\displaystyle 5.177366909672$"
      ],
      "text/plain": [
       "5.17736690967200"
      ]
     },
     "execution_count": 52,
     "metadata": {},
     "output_type": "execute_result"
    }
   ],
   "source": [
    "f(-1.1062)"
   ]
  },
  {
   "cell_type": "code",
   "execution_count": 53,
   "id": "323d7a3a",
   "metadata": {},
   "outputs": [],
   "source": [
    "def sec(fx,a,b):\n",
    "    tab = {}\n",
    "    n = 4\n",
    "    \n",
    "    s,e = a,b\n",
    "    for i in range(n):\n",
    "        j = round(e - f(e)*(e-s)/(f(e)-f(s)),4)\n",
    "        tab[f'x{(e,r(f(e)))}'] = r(j)\n",
    "        s,e = e,j\n",
    "    return tab"
   ]
  },
  {
   "cell_type": "code",
   "execution_count": 54,
   "id": "22dae6fb",
   "metadata": {},
   "outputs": [
    {
     "data": {
      "text/plain": [
       "{'x(1, -3)': 0.2500,\n",
       " 'x(0.2500, -0.2344)': 0.1864,\n",
       " 'x(0.1864, 0.0745)': 0.2017,\n",
       " 'x(0.2017, -0.0003)': 0.2016}"
      ]
     },
     "execution_count": 54,
     "metadata": {},
     "output_type": "execute_result"
    }
   ],
   "source": [
    "sec(fx,0,1)"
   ]
  },
  {
   "cell_type": "code",
   "execution_count": 14,
   "id": "31e4ae6f",
   "metadata": {},
   "outputs": [
    {
     "data": {
      "text/plain": [
       "3.54"
      ]
     },
     "execution_count": 14,
     "metadata": {},
     "output_type": "execute_result"
    }
   ],
   "source": [
    "a = 3.537433\n",
    "round(a,2)"
   ]
  },
  {
   "cell_type": "code",
   "execution_count": null,
   "id": "cd1c6a12",
   "metadata": {},
   "outputs": [],
   "source": [
    "\n"
   ]
  },
  {
   "cell_type": "code",
   "execution_count": null,
   "id": "0aa11b44",
   "metadata": {},
   "outputs": [],
   "source": []
  }
 ],
 "metadata": {
  "kernelspec": {
   "display_name": "Python 3 (ipykernel)",
   "language": "python",
   "name": "python3"
  },
  "language_info": {
   "codemirror_mode": {
    "name": "ipython",
    "version": 3
   },
   "file_extension": ".py",
   "mimetype": "text/x-python",
   "name": "python",
   "nbconvert_exporter": "python",
   "pygments_lexer": "ipython3",
   "version": "3.10.7"
  }
 },
 "nbformat": 4,
 "nbformat_minor": 5
}
