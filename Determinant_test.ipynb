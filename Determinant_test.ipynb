{
 "cells": [
  {
   "cell_type": "code",
   "execution_count": 78,
   "id": "817a7fca",
   "metadata": {},
   "outputs": [],
   "source": [
    "import numpy as np"
   ]
  },
  {
   "cell_type": "code",
   "execution_count": 79,
   "id": "243dbf67",
   "metadata": {},
   "outputs": [],
   "source": [
    "mat = np.array([[1,2],[3,4]])\n",
    "mat2 = np.array([[1,2,3],[4,5,6],[7,8,9]])"
   ]
  },
  {
   "cell_type": "code",
   "execution_count": 80,
   "id": "a5702f2e",
   "metadata": {},
   "outputs": [
    {
     "data": {
      "text/plain": [
       "4"
      ]
     },
     "execution_count": 80,
     "metadata": {},
     "output_type": "execute_result"
    }
   ],
   "source": [
    "mat[1,1]"
   ]
  },
  {
   "cell_type": "code",
   "execution_count": 81,
   "id": "6fdbefeb",
   "metadata": {},
   "outputs": [
    {
     "data": {
      "text/plain": [
       "array([[1, 2],\n",
       "       [3, 4]])"
      ]
     },
     "execution_count": 81,
     "metadata": {},
     "output_type": "execute_result"
    }
   ],
   "source": [
    "mat"
   ]
  },
  {
   "cell_type": "code",
   "execution_count": 82,
   "id": "d0d02f6d",
   "metadata": {},
   "outputs": [
    {
     "data": {
      "text/plain": [
       "(2, 2)"
      ]
     },
     "execution_count": 82,
     "metadata": {},
     "output_type": "execute_result"
    }
   ],
   "source": [
    "mat.shape"
   ]
  },
  {
   "cell_type": "code",
   "execution_count": 83,
   "id": "ac7c1720",
   "metadata": {},
   "outputs": [],
   "source": [
    "def det_2(arr):\n",
    "    return arr[0,0] * arr[1,1] - arr[0,1] * arr[1,0]"
   ]
  },
  {
   "cell_type": "code",
   "execution_count": 84,
   "id": "12436d97",
   "metadata": {},
   "outputs": [
    {
     "data": {
      "text/plain": [
       "-2"
      ]
     },
     "execution_count": 84,
     "metadata": {},
     "output_type": "execute_result"
    }
   ],
   "source": [
    "det_2(mat)"
   ]
  },
  {
   "cell_type": "code",
   "execution_count": 85,
   "id": "e2392db0",
   "metadata": {},
   "outputs": [
    {
     "data": {
      "text/plain": [
       "array([[1, 2, 3],\n",
       "       [4, 5, 6],\n",
       "       [7, 8, 9]])"
      ]
     },
     "execution_count": 85,
     "metadata": {},
     "output_type": "execute_result"
    }
   ],
   "source": [
    "mat2"
   ]
  },
  {
   "cell_type": "code",
   "execution_count": 96,
   "id": "660eb916",
   "metadata": {},
   "outputs": [
    {
     "data": {
      "text/plain": [
       "array([ 1, -2,  3])"
      ]
     },
     "execution_count": 96,
     "metadata": {},
     "output_type": "execute_result"
    }
   ],
   "source": [
    "# np.delete(np.delete(mat2,0,axis=1),0,axis=0)\n",
    "# np.delete(np.delete(mat2,1,axis=1),0,0)\n",
    "# mat2.shape\n",
    "mat2[0,:][1] = -2\n",
    "mat2[0,:]"
   ]
  },
  {
   "cell_type": "code",
   "execution_count": 126,
   "id": "32565a5f",
   "metadata": {},
   "outputs": [
    {
     "data": {
      "text/plain": [
       "array([[4, 6],\n",
       "       [7, 9]])"
      ]
     },
     "execution_count": 126,
     "metadata": {},
     "output_type": "execute_result"
    }
   ],
   "source": [
    "np.delete(np.delete(mat2,1,axis=1),0,axis=0)"
   ]
  },
  {
   "cell_type": "code",
   "execution_count": 135,
   "id": "a8ab5a81",
   "metadata": {},
   "outputs": [],
   "source": [
    "def det_3(arr):\n",
    "    f = {}\n",
    "    res = []\n",
    "    sum = 0\n",
    "    for i in range(arr.shape[0]):\n",
    "        t = arr[0,:][i] * det_2(np.delete(np.delete(arr,i,axis=1),0,axis=0))\n",
    "        f[arr[0,:][i]] = arr[0,:][i]*det_2(np.delete(np.delete(arr,i,axis=1),0,axis=0))\n",
    "        sum += t\n",
    "        res.append(t)\n",
    "    return sum,res,f\n",
    "        "
   ]
  },
  {
   "cell_type": "code",
   "execution_count": 136,
   "id": "c651e80c",
   "metadata": {},
   "outputs": [
    {
     "data": {
      "text/plain": [
       "(-24, [-3, -12, -9], {1: -3, 2: -12, 3: -9})"
      ]
     },
     "execution_count": 136,
     "metadata": {},
     "output_type": "execute_result"
    }
   ],
   "source": [
    "det_3(mat2)"
   ]
  },
  {
   "cell_type": "code",
   "execution_count": 137,
   "id": "fa7fecc0",
   "metadata": {},
   "outputs": [
    {
     "data": {
      "text/plain": [
       "array([[1, 2, 3],\n",
       "       [4, 5, 6],\n",
       "       [7, 8, 9]])"
      ]
     },
     "execution_count": 137,
     "metadata": {},
     "output_type": "execute_result"
    }
   ],
   "source": [
    "mat2"
   ]
  },
  {
   "cell_type": "code",
   "execution_count": 138,
   "id": "ed4885cc",
   "metadata": {},
   "outputs": [
    {
     "data": {
      "text/plain": [
       "0.0"
      ]
     },
     "execution_count": 138,
     "metadata": {},
     "output_type": "execute_result"
    }
   ],
   "source": [
    "np.linalg.det(mat2)"
   ]
  },
  {
   "cell_type": "code",
   "execution_count": null,
   "id": "7a26d916",
   "metadata": {},
   "outputs": [],
   "source": []
  }
 ],
 "metadata": {
  "kernelspec": {
   "display_name": "Python 3 (ipykernel)",
   "language": "python",
   "name": "python3"
  },
  "language_info": {
   "codemirror_mode": {
    "name": "ipython",
    "version": 3
   },
   "file_extension": ".py",
   "mimetype": "text/x-python",
   "name": "python",
   "nbconvert_exporter": "python",
   "pygments_lexer": "ipython3",
   "version": "3.10.7"
  }
 },
 "nbformat": 4,
 "nbformat_minor": 5
}
