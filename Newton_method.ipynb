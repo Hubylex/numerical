{
 "cells": [
  {
   "cell_type": "code",
   "execution_count": 29,
   "id": "c38e54e2",
   "metadata": {},
   "outputs": [],
   "source": [
    "from sympy import *"
   ]
  },
  {
   "cell_type": "code",
   "execution_count": 30,
   "id": "a5fb1d01",
   "metadata": {},
   "outputs": [],
   "source": [
    "x = symbols('x')"
   ]
  },
  {
   "cell_type": "code",
   "execution_count": 39,
   "id": "a93345ba",
   "metadata": {},
   "outputs": [
    {
     "data": {
      "text/latex": [
       "$\\displaystyle x^{3} - x - 1$"
      ],
      "text/plain": [
       "x**3 - x - 1"
      ]
     },
     "execution_count": 39,
     "metadata": {},
     "output_type": "execute_result"
    }
   ],
   "source": [
    "fx = x**3 - x - 1\n",
    "fx"
   ]
  },
  {
   "cell_type": "code",
   "execution_count": 40,
   "id": "632a98e3",
   "metadata": {},
   "outputs": [],
   "source": [
    "def f(u):\n",
    "    return round(fx.subs(x,u),4)"
   ]
  },
  {
   "cell_type": "code",
   "execution_count": 41,
   "id": "f2f24d35",
   "metadata": {},
   "outputs": [],
   "source": [
    "def f_(u):\n",
    "    return round(diff(fx).subs(x,u),4)\n"
   ]
  },
  {
   "cell_type": "code",
   "execution_count": 42,
   "id": "3e8fb65b",
   "metadata": {},
   "outputs": [
    {
     "data": {
      "text/latex": [
       "$\\displaystyle 2.1154$"
      ],
      "text/plain": [
       "2.1154"
      ]
     },
     "execution_count": 42,
     "metadata": {},
     "output_type": "execute_result"
    }
   ],
   "source": [
    "round(3-f(3)/f_(3),4)"
   ]
  },
  {
   "cell_type": "code",
   "execution_count": 43,
   "id": "d43da3b1",
   "metadata": {},
   "outputs": [],
   "source": [
    "def n(fx,m):\n",
    "    tab = {}\n",
    "    z = m\n",
    "    for i in range(5):\n",
    "        x_0 = f(z)/f_(z)\n",
    "        x = z - x_0\n",
    "        tab[f'x{i+1}'] = round(x,4)\n",
    "        z = x\n",
    "    return tab"
   ]
  },
  {
   "cell_type": "code",
   "execution_count": 44,
   "id": "ce1f54d3",
   "metadata": {},
   "outputs": [
    {
     "data": {
      "text/plain": [
       "{'x1': 1.5000, 'x2': 1.3478, 'x3': 1.3252, 'x4': 1.3247, 'x5': 1.3247}"
      ]
     },
     "execution_count": 44,
     "metadata": {},
     "output_type": "execute_result"
    }
   ],
   "source": [
    "n(fx,1)"
   ]
  },
  {
   "cell_type": "code",
   "execution_count": null,
   "id": "edd724d6",
   "metadata": {},
   "outputs": [],
   "source": []
  }
 ],
 "metadata": {
  "kernelspec": {
   "display_name": "Python 3 (ipykernel)",
   "language": "python",
   "name": "python3"
  },
  "language_info": {
   "codemirror_mode": {
    "name": "ipython",
    "version": 3
   },
   "file_extension": ".py",
   "mimetype": "text/x-python",
   "name": "python",
   "nbconvert_exporter": "python",
   "pygments_lexer": "ipython3",
   "version": "3.10.7"
  }
 },
 "nbformat": 4,
 "nbformat_minor": 5
}
