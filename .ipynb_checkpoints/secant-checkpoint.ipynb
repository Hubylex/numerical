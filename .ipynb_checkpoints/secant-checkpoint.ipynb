{
 "cells": [
  {
   "cell_type": "code",
   "execution_count": 1,
   "id": "26bdd6f8",
   "metadata": {},
   "outputs": [],
   "source": [
    "from sympy import *"
   ]
  },
  {
   "cell_type": "code",
   "execution_count": 2,
   "id": "3554d951",
   "metadata": {},
   "outputs": [],
   "source": [
    "x = symbols('x')"
   ]
  },
  {
   "cell_type": "code",
   "execution_count": 4,
   "id": "b7751ac9",
   "metadata": {},
   "outputs": [
    {
     "data": {
      "text/latex": [
       "$\\displaystyle x^{5} + x^{3} + 3$"
      ],
      "text/plain": [
       "x**5 + x**3 + 3"
      ]
     },
     "execution_count": 4,
     "metadata": {},
     "output_type": "execute_result"
    }
   ],
   "source": [
    "fx = x**5 + x**3 + 3\n",
    "fx"
   ]
  },
  {
   "cell_type": "code",
   "execution_count": 5,
   "id": "481eae3f",
   "metadata": {},
   "outputs": [],
   "source": [
    "def f(a):\n",
    "    return fx.subs(x,a)"
   ]
  },
  {
   "cell_type": "code",
   "execution_count": 8,
   "id": "323d7a3a",
   "metadata": {},
   "outputs": [],
   "source": [
    "def sec(fx,a,b):\n",
    "    tab = {}\n",
    "    n = 5\n",
    "    s,e = a,b\n",
    "    for i in range(n):\n",
    "        j = e - f(e)*(e-s)/(f(e)-f(s))\n",
    "        tab[f'x{(s,e)}'] = j\n",
    "        s,e = e,j\n",
    "    return tab"
   ]
  },
  {
   "cell_type": "code",
   "execution_count": 9,
   "id": "22dae6fb",
   "metadata": {},
   "outputs": [
    {
     "data": {
      "text/plain": [
       "{'x(-1, -1.1)': -1.10621236099457,\n",
       " 'x(-1.1, -1.10621236099457)': -1.10529120430561,\n",
       " 'x(-1.10621236099457, -1.10529120430561)': -1.10529853587240,\n",
       " 'x(-1.10529120430561, -1.10529853587240)': -1.10529854600628,\n",
       " 'x(-1.10529853587240, -1.10529854600628)': -1.10529854600617}"
      ]
     },
     "execution_count": 9,
     "metadata": {},
     "output_type": "execute_result"
    }
   ],
   "source": [
    "sec(fx,-1,-1.1)"
   ]
  },
  {
   "cell_type": "code",
   "execution_count": null,
   "id": "31e4ae6f",
   "metadata": {},
   "outputs": [],
   "source": []
  }
 ],
 "metadata": {
  "kernelspec": {
   "display_name": "Python 3 (ipykernel)",
   "language": "python",
   "name": "python3"
  },
  "language_info": {
   "codemirror_mode": {
    "name": "ipython",
    "version": 3
   },
   "file_extension": ".py",
   "mimetype": "text/x-python",
   "name": "python",
   "nbconvert_exporter": "python",
   "pygments_lexer": "ipython3",
   "version": "3.10.7"
  }
 },
 "nbformat": 4,
 "nbformat_minor": 5
}
