{
 "cells": [
  {
   "cell_type": "markdown",
   "id": "e53c92ca-9d51-421a-b686-f466d9010d44",
   "metadata": {},
   "source": [
    "# IMPORT LIBRARIES"
   ]
  },
  {
   "cell_type": "code",
   "execution_count": 1,
   "id": "e08d73b1-6380-46b5-8a70-48af4f1b9d09",
   "metadata": {},
   "outputs": [],
   "source": [
    "import math\n",
    "from sympy import *"
   ]
  },
  {
   "cell_type": "markdown",
   "id": "ad92811c-2556-43e7-af32-cfb89e3b6af4",
   "metadata": {},
   "source": [
    "# USING THE SYMBOLS FUNCTION"
   ]
  },
  {
   "cell_type": "code",
   "execution_count": 2,
   "id": "835e96fa-982a-4143-bb49-e5d1c08904ca",
   "metadata": {},
   "outputs": [],
   "source": [
    "x = symbols('x')"
   ]
  },
  {
   "cell_type": "code",
   "execution_count": 3,
   "id": "91526719-ca04-4eb0-be79-68f668fdd702",
   "metadata": {},
   "outputs": [
    {
     "data": {
      "text/latex": [
       "$\\displaystyle x$"
      ],
      "text/plain": [
       "x"
      ]
     },
     "execution_count": 3,
     "metadata": {},
     "output_type": "execute_result"
    }
   ],
   "source": [
    "x"
   ]
  },
  {
   "cell_type": "code",
   "execution_count": 4,
   "id": "0a80db99-9b13-4b25-b3a7-29140c33b564",
   "metadata": {},
   "outputs": [],
   "source": [
    "a = symbols('a')\n",
    "k = 6\n",
    "f_x = 0\n",
    "f_a = cos(a)"
   ]
  },
  {
   "cell_type": "code",
   "execution_count": 5,
   "id": "be03bba8-3d5f-4bb7-898c-e5474c9341bf",
   "metadata": {},
   "outputs": [
    {
     "data": {
      "text/latex": [
       "$\\displaystyle a$"
      ],
      "text/plain": [
       "a"
      ]
     },
     "execution_count": 5,
     "metadata": {},
     "output_type": "execute_result"
    }
   ],
   "source": [
    "a"
   ]
  },
  {
   "cell_type": "code",
   "execution_count": 6,
   "id": "7bf2c324-848a-400b-bede-2737164ba206",
   "metadata": {},
   "outputs": [
    {
     "data": {
      "text/plain": [
       "6"
      ]
     },
     "execution_count": 6,
     "metadata": {},
     "output_type": "execute_result"
    }
   ],
   "source": [
    "k"
   ]
  },
  {
   "cell_type": "code",
   "execution_count": 7,
   "id": "97052163-dffd-459b-9b91-b2e5d850feff",
   "metadata": {},
   "outputs": [
    {
     "data": {
      "text/plain": [
       "0"
      ]
     },
     "execution_count": 7,
     "metadata": {},
     "output_type": "execute_result"
    }
   ],
   "source": [
    "f_x"
   ]
  },
  {
   "cell_type": "code",
   "execution_count": 8,
   "id": "fa42f20f-7dc4-4a05-aaba-1cec667c9c8e",
   "metadata": {},
   "outputs": [
    {
     "data": {
      "text/latex": [
       "$\\displaystyle \\cos{\\left(a \\right)}$"
      ],
      "text/plain": [
       "cos(a)"
      ]
     },
     "execution_count": 8,
     "metadata": {},
     "output_type": "execute_result"
    }
   ],
   "source": [
    "f_a"
   ]
  },
  {
   "cell_type": "markdown",
   "id": "dd9df409-beab-4f19-b027-16ea58135652",
   "metadata": {},
   "source": [
    "# USING FOR LOOP TO PERFORM THE ITERATIVE LOGIC OF THE TAYLOR SERIES"
   ]
  },
  {
   "cell_type": "code",
   "execution_count": 9,
   "id": "c7d5ef4e-859e-4688-8ecb-b446afdb36b4",
   "metadata": {},
   "outputs": [
    {
     "name": "stdout",
     "output_type": "stream",
     "text": [
      "At n = 0, f(x) = 0.707106781186548\n",
      "At n = 1, f(x) = 0.521986658763282\n",
      "At n = 2, f(x) = 0.497754491403425\n",
      "At n = 3, f(x) = 0.499869146930044\n",
      "At n = 4, f(x) = 0.500007550810613\n",
      "At n = 5, f(x) = 0.500000304000373\n",
      "At n = 6, f(x) = 0.499999987798625\n"
     ]
    }
   ],
   "source": [
    "for i in range(k+1):\n",
    "    if i ==0:\n",
    "        f_x = f_a.subs(a, math.pi/4)\n",
    "    else:\n",
    "        dy_da = diff(f_a)\n",
    "        f_a = dy_da\n",
    "        dy_da_result = f_a.subs(a, math.pi/4)\n",
    "        product = dy_da_result * (math.pi/3 - math.pi/4)**i\n",
    "        quotient = product / math.factorial(i)\n",
    "        f_x += quotient\n",
    "\n",
    "    print(f\"At n = {i}, f(x) = {f_x}\")"
   ]
  },
  {
   "cell_type": "markdown",
   "id": "3341c999",
   "metadata": {},
   "source": [
    "### Using the for loop to perform the iterative logic of the maclaurin series"
   ]
  },
  {
   "cell_type": "code",
   "execution_count": 10,
   "id": "2c4ccf01",
   "metadata": {},
   "outputs": [],
   "source": [
    "f_a = cos(a)"
   ]
  },
  {
   "cell_type": "markdown",
   "id": "2d0f8307",
   "metadata": {},
   "source": [
    "### function is cos(x)"
   ]
  },
  {
   "cell_type": "code",
   "execution_count": 11,
   "id": "f0403fb3-8b5f-470d-88c7-ac6a4096bf6c",
   "metadata": {},
   "outputs": [
    {
     "name": "stdout",
     "output_type": "stream",
     "text": [
      "At n = 0, f(x) = 1\n",
      "At n = 1, f(x) = 1\n",
      "At n = 2, f(x) = 1 - x**2/2\n",
      "At n = 3, f(x) = 1 - x**2/2\n",
      "At n = 4, f(x) = x**4/24 - x**2/2 + 1\n",
      "At n = 5, f(x) = x**4/24 - x**2/2 + 1\n",
      "At n = 6, f(x) = -x**6/720 + x**4/24 - x**2/2 + 1\n"
     ]
    }
   ],
   "source": [
    "for i in range(k+1):\n",
    "    if i ==0:\n",
    "        f_x = f_a.subs(a, 0)\n",
    "    else:\n",
    "        dy_da = diff(f_a)\n",
    "        f_a = dy_da\n",
    "        dy_da_result = f_a.subs(a, 0)\n",
    "        product = dy_da_result * (x - 0)**i\n",
    "        quotient = product / math.factorial(i)\n",
    "        f_x += quotient\n",
    "\n",
    "    print(f\"At n = {i}, f(x) = {f_x}\")"
   ]
  },
  {
   "cell_type": "code",
   "execution_count": null,
   "id": "750601b3",
   "metadata": {},
   "outputs": [],
   "source": []
  }
 ],
 "metadata": {
  "kernelspec": {
   "display_name": "Python 3 (ipykernel)",
   "language": "python",
   "name": "python3"
  },
  "language_info": {
   "codemirror_mode": {
    "name": "ipython",
    "version": 3
   },
   "file_extension": ".py",
   "mimetype": "text/x-python",
   "name": "python",
   "nbconvert_exporter": "python",
   "pygments_lexer": "ipython3",
   "version": "3.10.7"
  }
 },
 "nbformat": 4,
 "nbformat_minor": 5
}
