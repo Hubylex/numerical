{
 "cells": [
  {
   "cell_type": "code",
   "execution_count": 2,
   "id": "0ba8f974",
   "metadata": {},
   "outputs": [],
   "source": [
    "from sympy import *\n",
    "import math"
   ]
  },
  {
   "cell_type": "code",
   "execution_count": 3,
   "id": "24b894c8",
   "metadata": {},
   "outputs": [],
   "source": [
    "a = symbols('a')\n",
    "x = symbols('x')\n",
    "fx = cos(a)"
   ]
  },
  {
   "cell_type": "code",
   "execution_count": 4,
   "id": "7fbcdc87",
   "metadata": {},
   "outputs": [],
   "source": [
    "\n",
    "def der(n,fx):\n",
    "    fd = fx\n",
    "    for i in range(n):\n",
    "        fd = diff(fd)\n",
    "    return fd"
   ]
  },
  {
   "cell_type": "code",
   "execution_count": 9,
   "id": "4b728972",
   "metadata": {},
   "outputs": [
    {
     "data": {
      "text/latex": [
       "$\\displaystyle - \\sin{\\left(a \\right)}$"
      ],
      "text/plain": [
       "-sin(a)"
      ]
     },
     "execution_count": 9,
     "metadata": {},
     "output_type": "execute_result"
    }
   ],
   "source": [
    "der(1,fx)"
   ]
  },
  {
   "cell_type": "code",
   "execution_count": 20,
   "id": "8cb1fc83",
   "metadata": {},
   "outputs": [],
   "source": [
    "\n",
    "n= 4\n",
    "res = []\n",
    "sum = 0\n",
    "while n >= 0:\n",
    "    term = (x**n)/math.factorial(n) * der(n,fx)\n",
    "    sum += term \n",
    "    res.append(term)\n",
    "    n -= 1"
   ]
  },
  {
   "cell_type": "code",
   "execution_count": 21,
   "id": "5979024c",
   "metadata": {},
   "outputs": [
    {
     "data": {
      "text/latex": [
       "$\\displaystyle \\frac{x^{4} \\cos{\\left(a \\right)}}{24} + \\frac{x^{3} \\sin{\\left(a \\right)}}{6} - \\frac{x^{2} \\cos{\\left(a \\right)}}{2} - x \\sin{\\left(a \\right)} + \\cos{\\left(a \\right)}$"
      ],
      "text/plain": [
       "x**4*cos(a)/24 + x**3*sin(a)/6 - x**2*cos(a)/2 - x*sin(a) + cos(a)"
      ]
     },
     "execution_count": 21,
     "metadata": {},
     "output_type": "execute_result"
    }
   ],
   "source": [
    "sum"
   ]
  },
  {
   "cell_type": "code",
   "execution_count": 19,
   "id": "b7701934",
   "metadata": {},
   "outputs": [
    {
     "data": {
      "text/plain": [
       "[x**4*cos(a)/24, x**3*sin(a)/6, -x**2*cos(a)/2, -x*sin(a), cos(a)]"
      ]
     },
     "execution_count": 19,
     "metadata": {},
     "output_type": "execute_result"
    }
   ],
   "source": [
    "res"
   ]
  },
  {
   "cell_type": "code",
   "execution_count": null,
   "id": "d8c769e1",
   "metadata": {},
   "outputs": [],
   "source": []
  }
 ],
 "metadata": {
  "kernelspec": {
   "display_name": "Python 3 (ipykernel)",
   "language": "python",
   "name": "python3"
  },
  "language_info": {
   "codemirror_mode": {
    "name": "ipython",
    "version": 3
   },
   "file_extension": ".py",
   "mimetype": "text/x-python",
   "name": "python",
   "nbconvert_exporter": "python",
   "pygments_lexer": "ipython3",
   "version": "3.10.7"
  }
 },
 "nbformat": 4,
 "nbformat_minor": 5
}
