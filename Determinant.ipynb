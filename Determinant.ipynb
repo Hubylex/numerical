{
 "cells": [
  {
   "cell_type": "code",
   "execution_count": 1,
   "id": "94e1e44a",
   "metadata": {},
   "outputs": [],
   "source": [
    "import numpy as np"
   ]
  },
  {
   "cell_type": "markdown",
   "id": "e205a427",
   "metadata": {},
   "source": [
    "## Function for 2x2 matrix determinant calculation"
   ]
  },
  {
   "cell_type": "code",
   "execution_count": 11,
   "id": "36b38eff",
   "metadata": {},
   "outputs": [],
   "source": [
    "def det_2(arr):\n",
    "    return arr[0,0] * arr[1,1] - arr[0,1] * arr[1,0]"
   ]
  },
  {
   "cell_type": "markdown",
   "id": "eaa98897",
   "metadata": {},
   "source": [
    "## Function for 3x3 matrix determinant calculation"
   ]
  },
  {
   "cell_type": "code",
   "execution_count": 30,
   "id": "5cb24876",
   "metadata": {},
   "outputs": [],
   "source": [
    "def determinant_3(arr):\n",
    "    arr[0,:][1] *= -1\n",
    "\n",
    "    sum = 0\n",
    "    \n",
    "    for i in range(arr.shape[0]):\n",
    "        t = arr[0,:][i] * det_2(np.delete(np.delete(arr,i,axis=1),0,axis=0))\n",
    "        sum += t\n",
    "\n",
    "    return f'The determinant is given as: {sum}'"
   ]
  },
  {
   "cell_type": "markdown",
   "id": "fc54c710",
   "metadata": {},
   "source": [
    "## Example Matrix"
   ]
  },
  {
   "cell_type": "code",
   "execution_count": 64,
   "id": "5fc3824a",
   "metadata": {},
   "outputs": [
    {
     "data": {
      "text/plain": [
       "array([[1, 2],\n",
       "       [2, 4]])"
      ]
     },
     "execution_count": 64,
     "metadata": {},
     "output_type": "execute_result"
    }
   ],
   "source": [
    "matrix = np.array([[1,2],[2,4]])\n",
    "matrix"
   ]
  },
  {
   "cell_type": "markdown",
   "id": "c41e349d",
   "metadata": {},
   "source": [
    "## Calling the function"
   ]
  },
  {
   "cell_type": "code",
   "execution_count": 65,
   "id": "2170c77b",
   "metadata": {},
   "outputs": [
    {
     "data": {
      "text/plain": [
       "0"
      ]
     },
     "execution_count": 65,
     "metadata": {},
     "output_type": "execute_result"
    }
   ],
   "source": [
    "det_2(matrix)"
   ]
  },
  {
   "cell_type": "markdown",
   "id": "d4e31df7",
   "metadata": {},
   "source": [
    "## Object-based(classes) model of program"
   ]
  },
  {
   "cell_type": "code",
   "execution_count": 56,
   "id": "f92e3a56",
   "metadata": {},
   "outputs": [],
   "source": [
    "class Determinant:\n",
    "    def __init__(self,arr):\n",
    "        self.arr = arr\n",
    "    def det_2(self):\n",
    "        return arr[0,0] * arr[1,1] - arr[0,1] * arr[1,0]\n",
    "    def det_3(self):\n",
    "            sum = 0\n",
    "            for i in range(arr.shape[0]):\n",
    "                t = arr[0,:][i] * det_2(np.delete(np.delete(arr,i,axis=1),0,axis=0))\n",
    "                f[arr[0,:][i]] = arr[0,:][i]*det_2(np.delete(np.delete(arr,i,axis=1),0,axis=0))\n",
    "                sum += t\n",
    "                res.append(t)\n",
    "            return sum,res,f"
   ]
  },
  {
   "cell_type": "code",
   "execution_count": 57,
   "id": "99e55b0e",
   "metadata": {},
   "outputs": [
    {
     "data": {
      "text/plain": [
       "array([[ 1, -4,  5],\n",
       "       [ 7,  1,  7],\n",
       "       [ 9,  4,  6]])"
      ]
     },
     "execution_count": 57,
     "metadata": {},
     "output_type": "execute_result"
    }
   ],
   "source": [
    "test = Determinant(matrix)\n",
    "matrix"
   ]
  },
  {
   "cell_type": "code",
   "execution_count": 60,
   "id": "4b5f4c10",
   "metadata": {},
   "outputs": [
    {
     "name": "stdout",
     "output_type": "stream",
     "text": [
      "<bound method Determinant.det_3 of <__main__.Determinant object at 0x0000021A81526440>>\n"
     ]
    }
   ],
   "source": [
    "print(test.det_3)"
   ]
  },
  {
   "cell_type": "code",
   "execution_count": null,
   "id": "0b9fe181",
   "metadata": {},
   "outputs": [],
   "source": []
  }
 ],
 "metadata": {
  "kernelspec": {
   "display_name": "Python 3 (ipykernel)",
   "language": "python",
   "name": "python3"
  },
  "language_info": {
   "codemirror_mode": {
    "name": "ipython",
    "version": 3
   },
   "file_extension": ".py",
   "mimetype": "text/x-python",
   "name": "python",
   "nbconvert_exporter": "python",
   "pygments_lexer": "ipython3",
   "version": "3.10.7"
  }
 },
 "nbformat": 4,
 "nbformat_minor": 5
}
